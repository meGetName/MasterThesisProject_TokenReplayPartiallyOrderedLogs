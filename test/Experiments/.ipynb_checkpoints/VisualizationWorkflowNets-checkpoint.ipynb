{
 "cells": [
  {
   "cell_type": "code",
   "execution_count": 1,
   "id": "dd7264fb-caa6-4cf8-a67c-0ee8652a0b11",
   "metadata": {},
   "outputs": [],
   "source": [
    "import pandas as pd\n",
    "import pm4py\n",
    "from pm4py.objects.conversion.log import converter as log_converter\n",
    "from pm4py.objects.petri_net.importer import importer as pnml_importer\n",
    "from pm4py.visualization.petri_net import visualizer as pn_visualizer"
   ]
  },
  {
   "cell_type": "code",
   "execution_count": 3,
   "id": "0c388895-469c-4c62-b51b-9adeb26daac8",
   "metadata": {},
   "outputs": [
    {
     "ename": "FileNotFoundError",
     "evalue": "[Errno 2] No such file or directory: 'data/nets/repair_net'",
     "output_type": "error",
     "traceback": [
      "\u001b[1;31m---------------------------------------------------------------------------\u001b[0m",
      "\u001b[1;31mFileNotFoundError\u001b[0m                         Traceback (most recent call last)",
      "Input \u001b[1;32mIn [3]\u001b[0m, in \u001b[0;36m<cell line: 1>\u001b[1;34m()\u001b[0m\n\u001b[1;32m----> 1\u001b[0m repair_net, repair_initial_marking, repair_final_marking \u001b[38;5;241m=\u001b[39m \u001b[43mpnml_importer\u001b[49m\u001b[38;5;241;43m.\u001b[39;49m\u001b[43mapply\u001b[49m\u001b[43m(\u001b[49m\u001b[38;5;124;43m\"\u001b[39;49m\u001b[38;5;124;43mdata/nets/repair_net\u001b[39;49m\u001b[38;5;124;43m\"\u001b[39;49m\u001b[43m)\u001b[49m\n\u001b[0;32m      2\u001b[0m repair_net_viz \u001b[38;5;241m=\u001b[39m pn_visualizer\u001b[38;5;241m.\u001b[39mapply(repair_net, repair_initial_marking, repair_final_marking)\n\u001b[0;32m      3\u001b[0m pn_visualizer\u001b[38;5;241m.\u001b[39mview(repair_net_viz)\n",
      "File \u001b[1;32m~\\AppData\\Local\\Programs\\Python\\Python310\\lib\\site-packages\\pm4py\\objects\\petri_net\\importer\\importer.py:49\u001b[0m, in \u001b[0;36mapply\u001b[1;34m(input_file_path, variant, parameters)\u001b[0m\n\u001b[0;32m     35\u001b[0m \u001b[38;5;28;01mdef\u001b[39;00m \u001b[38;5;21mapply\u001b[39m(input_file_path, variant\u001b[38;5;241m=\u001b[39mPNML, parameters\u001b[38;5;241m=\u001b[39m\u001b[38;5;28;01mNone\u001b[39;00m):\n\u001b[0;32m     36\u001b[0m     \u001b[38;5;124;03m\"\"\"\u001b[39;00m\n\u001b[0;32m     37\u001b[0m \u001b[38;5;124;03m    Import a Petri net from a PNML file\u001b[39;00m\n\u001b[0;32m     38\u001b[0m \n\u001b[1;32m   (...)\u001b[0m\n\u001b[0;32m     47\u001b[0m \u001b[38;5;124;03m            - Variants.PNML\u001b[39;00m\n\u001b[0;32m     48\u001b[0m \u001b[38;5;124;03m    \"\"\"\u001b[39;00m\n\u001b[1;32m---> 49\u001b[0m     \u001b[38;5;28;01mreturn\u001b[39;00m \u001b[43mexec_utils\u001b[49m\u001b[38;5;241;43m.\u001b[39;49m\u001b[43mget_variant\u001b[49m\u001b[43m(\u001b[49m\u001b[43mvariant\u001b[49m\u001b[43m)\u001b[49m\u001b[38;5;241;43m.\u001b[39;49m\u001b[43mimport_net\u001b[49m\u001b[43m(\u001b[49m\u001b[43minput_file_path\u001b[49m\u001b[43m,\u001b[49m\u001b[43m \u001b[49m\u001b[43mparameters\u001b[49m\u001b[38;5;241;43m=\u001b[39;49m\u001b[43mparameters\u001b[49m\u001b[43m)\u001b[49m\n",
      "File \u001b[1;32m~\\AppData\\Local\\Programs\\Python\\Python310\\lib\\site-packages\\pm4py\\objects\\petri_net\\importer\\variants\\pnml.py:68\u001b[0m, in \u001b[0;36mimport_net\u001b[1;34m(input_file_path, parameters)\u001b[0m\n\u001b[0;32m     64\u001b[0m encoding \u001b[38;5;241m=\u001b[39m exec_utils\u001b[38;5;241m.\u001b[39mget_param_value(Parameters\u001b[38;5;241m.\u001b[39mENCODING, parameters, \u001b[38;5;28;01mNone\u001b[39;00m)\n\u001b[0;32m     66\u001b[0m parser \u001b[38;5;241m=\u001b[39m etree\u001b[38;5;241m.\u001b[39mXMLParser(remove_comments\u001b[38;5;241m=\u001b[39m\u001b[38;5;28;01mTrue\u001b[39;00m, encoding\u001b[38;5;241m=\u001b[39mencoding)\n\u001b[1;32m---> 68\u001b[0m F \u001b[38;5;241m=\u001b[39m \u001b[38;5;28;43mopen\u001b[39;49m\u001b[43m(\u001b[49m\u001b[43minput_file_path\u001b[49m\u001b[43m,\u001b[49m\u001b[43m \u001b[49m\u001b[38;5;124;43m\"\u001b[39;49m\u001b[38;5;124;43mrb\u001b[39;49m\u001b[38;5;124;43m\"\u001b[39;49m\u001b[43m)\u001b[49m\n\u001b[0;32m     69\u001b[0m tree \u001b[38;5;241m=\u001b[39m objectify\u001b[38;5;241m.\u001b[39mparse(F, parser\u001b[38;5;241m=\u001b[39mparser)\n\u001b[0;32m     70\u001b[0m F\u001b[38;5;241m.\u001b[39mclose()\n",
      "\u001b[1;31mFileNotFoundError\u001b[0m: [Errno 2] No such file or directory: 'data/nets/repair_net'"
     ]
    }
   ],
   "source": [
    "repair_net, repair_initial_marking, repair_final_marking = pnml_importer.apply(\"data/nets/repair_net.pnml\")\n",
    "repair_net_viz = pn_visualizer.apply(repair_net, repair_initial_marking, repair_final_marking)\n",
    "pn_visualizer.view(repair_net_viz)"
   ]
  }
 ],
 "metadata": {
  "kernelspec": {
   "display_name": "Python 3 (ipykernel)",
   "language": "python",
   "name": "python3"
  },
  "language_info": {
   "codemirror_mode": {
    "name": "ipython",
    "version": 3
   },
   "file_extension": ".py",
   "mimetype": "text/x-python",
   "name": "python",
   "nbconvert_exporter": "python",
   "pygments_lexer": "ipython3",
   "version": "3.10.2"
  }
 },
 "nbformat": 4,
 "nbformat_minor": 5
}
